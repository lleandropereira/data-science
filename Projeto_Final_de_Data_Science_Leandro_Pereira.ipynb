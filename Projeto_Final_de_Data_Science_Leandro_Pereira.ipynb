{
  "nbformat": 4,
  "nbformat_minor": 0,
  "metadata": {
    "colab": {
      "provenance": []
    },
    "kernelspec": {
      "name": "python3",
      "display_name": "Python 3"
    },
    "language_info": {
      "name": "python"
    }
  },
  "cells": [
    {
      "cell_type": "markdown",
      "source": [
        "**Projeto de Análise de Desempenho em Partidas de Jogo Eletrônico utilizando Pandas**\n",
        "\n",
        "Este projeto tem como objetivo realizar uma análise abrangente do desempenho das equipes em partidas do jogo League of Legends. Utilizando a biblioteca pandas em Python."
      ],
      "metadata": {
        "id": "xuD-UYOCcQGM"
      }
    },
    {
      "cell_type": "markdown",
      "source": [
        "#Análise inicial dos dados"
      ],
      "metadata": {
        "id": "kbR8cYBoGVzq"
      }
    },
    {
      "cell_type": "code",
      "execution_count": 34,
      "metadata": {
        "id": "OCp5VPYVKcYN"
      },
      "outputs": [],
      "source": [
        "import numpy as np\n",
        "import pandas as pd\n",
        "import seaborn as sns\n",
        "import matplotlib.pyplot as plt\n"
      ]
    },
    {
      "cell_type": "code",
      "source": [
        "#Carregamento do Dataset\n",
        "df = pd.read_csv('/content/drive/MyDrive/DataScience_Leandro/archive/match_data_2022.csv')\n",
        "df"
      ],
      "metadata": {
        "id": "HTlh6MIELWSR",
        "colab": {
          "base_uri": "https://localhost:8080/",
          "height": 541
        },
        "outputId": "ae7c9b99-6aa7-453a-8ea4-fcb81af91c59"
      },
      "execution_count": 35,
      "outputs": [
        {
          "output_type": "execute_result",
          "data": {
            "text/plain": [
              "                    gameid          teamname top_playername top_champion  \\\n",
              "0    ESPORTSTMNT01_2695708              LOUD           Robo     Renekton   \n",
              "1    ESPORTSTMNT01_2695708             FURIA            fNb        Akali   \n",
              "2    ESPORTSTMNT01_2695774   Netshoes Miners          DoRun   Tryndamere   \n",
              "3    ESPORTSTMNT01_2695774  Flamengo Esports           Boal         Gwen   \n",
              "4    ESPORTSTMNT01_2695807   KaBuM! e-Sports         Parang       Graves   \n",
              "..                     ...               ...            ...          ...   \n",
              "481  ESPORTSTMNT04_2472249       paiN Gaming          Wizer        Fiora   \n",
              "482  ESPORTSTMNT04_2472255              LOUD           Robo         Gnar   \n",
              "483  ESPORTSTMNT04_2472255       paiN Gaming          Wizer       Aatrox   \n",
              "484  ESPORTSTMNT04_2472256       paiN Gaming          Wizer       Aatrox   \n",
              "485  ESPORTSTMNT04_2472256              LOUD           Robo         Gnar   \n",
              "\n",
              "     top_kills  top_deaths  top_assists  top_firstbloodkill  \\\n",
              "0            3           6            5                 0.0   \n",
              "1            4           4            5                 0.0   \n",
              "2            6           0            7                 0.0   \n",
              "3            2           3            2                 1.0   \n",
              "4            4           2            6                 0.0   \n",
              "..         ...         ...          ...                 ...   \n",
              "481          3           5            1                 0.0   \n",
              "482          3           2            8                 0.0   \n",
              "483          1           3            4                 0.0   \n",
              "484          1           5            2                 0.0   \n",
              "485          3           3            8                 0.0   \n",
              "\n",
              "     top_firstbloodassist  top_firstbloodvictim  ...  opp_csat15  \\\n",
              "0                     0.0                   0.0  ...       511.0   \n",
              "1                     0.0                   0.0  ...       522.0   \n",
              "2                     0.0                   0.0  ...       589.0   \n",
              "3                     0.0                   0.0  ...       526.0   \n",
              "4                     0.0                   0.0  ...       494.0   \n",
              "..                    ...                   ...  ...         ...   \n",
              "481                   0.0                   0.0  ...       522.0   \n",
              "482                   0.0                   0.0  ...       498.0   \n",
              "483                   0.0                   0.0  ...       470.0   \n",
              "484                   0.0                   0.0  ...       523.0   \n",
              "485                   0.0                   0.0  ...       493.0   \n",
              "\n",
              "     golddiffat15  xpdiffat15  csdiffat15  killsat15  assistsat15  deathsat15  \\\n",
              "0          1659.0       549.0        11.0        4.0          4.0         4.0   \n",
              "1         -1659.0      -549.0       -11.0        4.0          6.0         4.0   \n",
              "2          -529.0       401.0       -63.0        3.0         11.0         2.0   \n",
              "3           529.0      -401.0        63.0        2.0          4.0         3.0   \n",
              "4           746.0      1341.0        37.0        2.0          3.0         3.0   \n",
              "..            ...         ...         ...        ...          ...         ...   \n",
              "481        -811.0     -1772.0       -33.0        4.0          6.0         5.0   \n",
              "482        3644.0      2539.0       -28.0       12.0         21.0         6.0   \n",
              "483       -3644.0     -2539.0        28.0        6.0          9.0        12.0   \n",
              "484        -619.0     -2671.0       -30.0        3.0          4.0         4.0   \n",
              "485         619.0      2671.0        30.0        4.0          7.0         3.0   \n",
              "\n",
              "     opp_killsat15  opp_assistsat15  opp_deathsat15  \n",
              "0              4.0              6.0             4.0  \n",
              "1              4.0              4.0             4.0  \n",
              "2              2.0              4.0             3.0  \n",
              "3              3.0             11.0             2.0  \n",
              "4              3.0              6.0             2.0  \n",
              "..             ...              ...             ...  \n",
              "481            5.0              7.0             4.0  \n",
              "482            6.0              9.0            12.0  \n",
              "483           12.0             21.0             6.0  \n",
              "484            4.0              7.0             3.0  \n",
              "485            3.0              4.0             4.0  \n",
              "\n",
              "[486 rows x 403 columns]"
            ],
            "text/html": [
              "\n",
              "  <div id=\"df-b7f71dbb-9ccf-44ee-8628-8716a7c5f2fd\" class=\"colab-df-container\">\n",
              "    <div>\n",
              "<style scoped>\n",
              "    .dataframe tbody tr th:only-of-type {\n",
              "        vertical-align: middle;\n",
              "    }\n",
              "\n",
              "    .dataframe tbody tr th {\n",
              "        vertical-align: top;\n",
              "    }\n",
              "\n",
              "    .dataframe thead th {\n",
              "        text-align: right;\n",
              "    }\n",
              "</style>\n",
              "<table border=\"1\" class=\"dataframe\">\n",
              "  <thead>\n",
              "    <tr style=\"text-align: right;\">\n",
              "      <th></th>\n",
              "      <th>gameid</th>\n",
              "      <th>teamname</th>\n",
              "      <th>top_playername</th>\n",
              "      <th>top_champion</th>\n",
              "      <th>top_kills</th>\n",
              "      <th>top_deaths</th>\n",
              "      <th>top_assists</th>\n",
              "      <th>top_firstbloodkill</th>\n",
              "      <th>top_firstbloodassist</th>\n",
              "      <th>top_firstbloodvictim</th>\n",
              "      <th>...</th>\n",
              "      <th>opp_csat15</th>\n",
              "      <th>golddiffat15</th>\n",
              "      <th>xpdiffat15</th>\n",
              "      <th>csdiffat15</th>\n",
              "      <th>killsat15</th>\n",
              "      <th>assistsat15</th>\n",
              "      <th>deathsat15</th>\n",
              "      <th>opp_killsat15</th>\n",
              "      <th>opp_assistsat15</th>\n",
              "      <th>opp_deathsat15</th>\n",
              "    </tr>\n",
              "  </thead>\n",
              "  <tbody>\n",
              "    <tr>\n",
              "      <th>0</th>\n",
              "      <td>ESPORTSTMNT01_2695708</td>\n",
              "      <td>LOUD</td>\n",
              "      <td>Robo</td>\n",
              "      <td>Renekton</td>\n",
              "      <td>3</td>\n",
              "      <td>6</td>\n",
              "      <td>5</td>\n",
              "      <td>0.0</td>\n",
              "      <td>0.0</td>\n",
              "      <td>0.0</td>\n",
              "      <td>...</td>\n",
              "      <td>511.0</td>\n",
              "      <td>1659.0</td>\n",
              "      <td>549.0</td>\n",
              "      <td>11.0</td>\n",
              "      <td>4.0</td>\n",
              "      <td>4.0</td>\n",
              "      <td>4.0</td>\n",
              "      <td>4.0</td>\n",
              "      <td>6.0</td>\n",
              "      <td>4.0</td>\n",
              "    </tr>\n",
              "    <tr>\n",
              "      <th>1</th>\n",
              "      <td>ESPORTSTMNT01_2695708</td>\n",
              "      <td>FURIA</td>\n",
              "      <td>fNb</td>\n",
              "      <td>Akali</td>\n",
              "      <td>4</td>\n",
              "      <td>4</td>\n",
              "      <td>5</td>\n",
              "      <td>0.0</td>\n",
              "      <td>0.0</td>\n",
              "      <td>0.0</td>\n",
              "      <td>...</td>\n",
              "      <td>522.0</td>\n",
              "      <td>-1659.0</td>\n",
              "      <td>-549.0</td>\n",
              "      <td>-11.0</td>\n",
              "      <td>4.0</td>\n",
              "      <td>6.0</td>\n",
              "      <td>4.0</td>\n",
              "      <td>4.0</td>\n",
              "      <td>4.0</td>\n",
              "      <td>4.0</td>\n",
              "    </tr>\n",
              "    <tr>\n",
              "      <th>2</th>\n",
              "      <td>ESPORTSTMNT01_2695774</td>\n",
              "      <td>Netshoes Miners</td>\n",
              "      <td>DoRun</td>\n",
              "      <td>Tryndamere</td>\n",
              "      <td>6</td>\n",
              "      <td>0</td>\n",
              "      <td>7</td>\n",
              "      <td>0.0</td>\n",
              "      <td>0.0</td>\n",
              "      <td>0.0</td>\n",
              "      <td>...</td>\n",
              "      <td>589.0</td>\n",
              "      <td>-529.0</td>\n",
              "      <td>401.0</td>\n",
              "      <td>-63.0</td>\n",
              "      <td>3.0</td>\n",
              "      <td>11.0</td>\n",
              "      <td>2.0</td>\n",
              "      <td>2.0</td>\n",
              "      <td>4.0</td>\n",
              "      <td>3.0</td>\n",
              "    </tr>\n",
              "    <tr>\n",
              "      <th>3</th>\n",
              "      <td>ESPORTSTMNT01_2695774</td>\n",
              "      <td>Flamengo Esports</td>\n",
              "      <td>Boal</td>\n",
              "      <td>Gwen</td>\n",
              "      <td>2</td>\n",
              "      <td>3</td>\n",
              "      <td>2</td>\n",
              "      <td>1.0</td>\n",
              "      <td>0.0</td>\n",
              "      <td>0.0</td>\n",
              "      <td>...</td>\n",
              "      <td>526.0</td>\n",
              "      <td>529.0</td>\n",
              "      <td>-401.0</td>\n",
              "      <td>63.0</td>\n",
              "      <td>2.0</td>\n",
              "      <td>4.0</td>\n",
              "      <td>3.0</td>\n",
              "      <td>3.0</td>\n",
              "      <td>11.0</td>\n",
              "      <td>2.0</td>\n",
              "    </tr>\n",
              "    <tr>\n",
              "      <th>4</th>\n",
              "      <td>ESPORTSTMNT01_2695807</td>\n",
              "      <td>KaBuM! e-Sports</td>\n",
              "      <td>Parang</td>\n",
              "      <td>Graves</td>\n",
              "      <td>4</td>\n",
              "      <td>2</td>\n",
              "      <td>6</td>\n",
              "      <td>0.0</td>\n",
              "      <td>0.0</td>\n",
              "      <td>0.0</td>\n",
              "      <td>...</td>\n",
              "      <td>494.0</td>\n",
              "      <td>746.0</td>\n",
              "      <td>1341.0</td>\n",
              "      <td>37.0</td>\n",
              "      <td>2.0</td>\n",
              "      <td>3.0</td>\n",
              "      <td>3.0</td>\n",
              "      <td>3.0</td>\n",
              "      <td>6.0</td>\n",
              "      <td>2.0</td>\n",
              "    </tr>\n",
              "    <tr>\n",
              "      <th>...</th>\n",
              "      <td>...</td>\n",
              "      <td>...</td>\n",
              "      <td>...</td>\n",
              "      <td>...</td>\n",
              "      <td>...</td>\n",
              "      <td>...</td>\n",
              "      <td>...</td>\n",
              "      <td>...</td>\n",
              "      <td>...</td>\n",
              "      <td>...</td>\n",
              "      <td>...</td>\n",
              "      <td>...</td>\n",
              "      <td>...</td>\n",
              "      <td>...</td>\n",
              "      <td>...</td>\n",
              "      <td>...</td>\n",
              "      <td>...</td>\n",
              "      <td>...</td>\n",
              "      <td>...</td>\n",
              "      <td>...</td>\n",
              "      <td>...</td>\n",
              "    </tr>\n",
              "    <tr>\n",
              "      <th>481</th>\n",
              "      <td>ESPORTSTMNT04_2472249</td>\n",
              "      <td>paiN Gaming</td>\n",
              "      <td>Wizer</td>\n",
              "      <td>Fiora</td>\n",
              "      <td>3</td>\n",
              "      <td>5</td>\n",
              "      <td>1</td>\n",
              "      <td>0.0</td>\n",
              "      <td>0.0</td>\n",
              "      <td>0.0</td>\n",
              "      <td>...</td>\n",
              "      <td>522.0</td>\n",
              "      <td>-811.0</td>\n",
              "      <td>-1772.0</td>\n",
              "      <td>-33.0</td>\n",
              "      <td>4.0</td>\n",
              "      <td>6.0</td>\n",
              "      <td>5.0</td>\n",
              "      <td>5.0</td>\n",
              "      <td>7.0</td>\n",
              "      <td>4.0</td>\n",
              "    </tr>\n",
              "    <tr>\n",
              "      <th>482</th>\n",
              "      <td>ESPORTSTMNT04_2472255</td>\n",
              "      <td>LOUD</td>\n",
              "      <td>Robo</td>\n",
              "      <td>Gnar</td>\n",
              "      <td>3</td>\n",
              "      <td>2</td>\n",
              "      <td>8</td>\n",
              "      <td>0.0</td>\n",
              "      <td>0.0</td>\n",
              "      <td>0.0</td>\n",
              "      <td>...</td>\n",
              "      <td>498.0</td>\n",
              "      <td>3644.0</td>\n",
              "      <td>2539.0</td>\n",
              "      <td>-28.0</td>\n",
              "      <td>12.0</td>\n",
              "      <td>21.0</td>\n",
              "      <td>6.0</td>\n",
              "      <td>6.0</td>\n",
              "      <td>9.0</td>\n",
              "      <td>12.0</td>\n",
              "    </tr>\n",
              "    <tr>\n",
              "      <th>483</th>\n",
              "      <td>ESPORTSTMNT04_2472255</td>\n",
              "      <td>paiN Gaming</td>\n",
              "      <td>Wizer</td>\n",
              "      <td>Aatrox</td>\n",
              "      <td>1</td>\n",
              "      <td>3</td>\n",
              "      <td>4</td>\n",
              "      <td>0.0</td>\n",
              "      <td>0.0</td>\n",
              "      <td>0.0</td>\n",
              "      <td>...</td>\n",
              "      <td>470.0</td>\n",
              "      <td>-3644.0</td>\n",
              "      <td>-2539.0</td>\n",
              "      <td>28.0</td>\n",
              "      <td>6.0</td>\n",
              "      <td>9.0</td>\n",
              "      <td>12.0</td>\n",
              "      <td>12.0</td>\n",
              "      <td>21.0</td>\n",
              "      <td>6.0</td>\n",
              "    </tr>\n",
              "    <tr>\n",
              "      <th>484</th>\n",
              "      <td>ESPORTSTMNT04_2472256</td>\n",
              "      <td>paiN Gaming</td>\n",
              "      <td>Wizer</td>\n",
              "      <td>Aatrox</td>\n",
              "      <td>1</td>\n",
              "      <td>5</td>\n",
              "      <td>2</td>\n",
              "      <td>0.0</td>\n",
              "      <td>0.0</td>\n",
              "      <td>0.0</td>\n",
              "      <td>...</td>\n",
              "      <td>523.0</td>\n",
              "      <td>-619.0</td>\n",
              "      <td>-2671.0</td>\n",
              "      <td>-30.0</td>\n",
              "      <td>3.0</td>\n",
              "      <td>4.0</td>\n",
              "      <td>4.0</td>\n",
              "      <td>4.0</td>\n",
              "      <td>7.0</td>\n",
              "      <td>3.0</td>\n",
              "    </tr>\n",
              "    <tr>\n",
              "      <th>485</th>\n",
              "      <td>ESPORTSTMNT04_2472256</td>\n",
              "      <td>LOUD</td>\n",
              "      <td>Robo</td>\n",
              "      <td>Gnar</td>\n",
              "      <td>3</td>\n",
              "      <td>3</td>\n",
              "      <td>8</td>\n",
              "      <td>0.0</td>\n",
              "      <td>0.0</td>\n",
              "      <td>0.0</td>\n",
              "      <td>...</td>\n",
              "      <td>493.0</td>\n",
              "      <td>619.0</td>\n",
              "      <td>2671.0</td>\n",
              "      <td>30.0</td>\n",
              "      <td>4.0</td>\n",
              "      <td>7.0</td>\n",
              "      <td>3.0</td>\n",
              "      <td>3.0</td>\n",
              "      <td>4.0</td>\n",
              "      <td>4.0</td>\n",
              "    </tr>\n",
              "  </tbody>\n",
              "</table>\n",
              "<p>486 rows × 403 columns</p>\n",
              "</div>\n",
              "    <div class=\"colab-df-buttons\">\n",
              "\n",
              "  <div class=\"colab-df-container\">\n",
              "    <button class=\"colab-df-convert\" onclick=\"convertToInteractive('df-b7f71dbb-9ccf-44ee-8628-8716a7c5f2fd')\"\n",
              "            title=\"Convert this dataframe to an interactive table.\"\n",
              "            style=\"display:none;\">\n",
              "\n",
              "  <svg xmlns=\"http://www.w3.org/2000/svg\" height=\"24px\" viewBox=\"0 -960 960 960\">\n",
              "    <path d=\"M120-120v-720h720v720H120Zm60-500h600v-160H180v160Zm220 220h160v-160H400v160Zm0 220h160v-160H400v160ZM180-400h160v-160H180v160Zm440 0h160v-160H620v160ZM180-180h160v-160H180v160Zm440 0h160v-160H620v160Z\"/>\n",
              "  </svg>\n",
              "    </button>\n",
              "\n",
              "  <style>\n",
              "    .colab-df-container {\n",
              "      display:flex;\n",
              "      gap: 12px;\n",
              "    }\n",
              "\n",
              "    .colab-df-convert {\n",
              "      background-color: #E8F0FE;\n",
              "      border: none;\n",
              "      border-radius: 50%;\n",
              "      cursor: pointer;\n",
              "      display: none;\n",
              "      fill: #1967D2;\n",
              "      height: 32px;\n",
              "      padding: 0 0 0 0;\n",
              "      width: 32px;\n",
              "    }\n",
              "\n",
              "    .colab-df-convert:hover {\n",
              "      background-color: #E2EBFA;\n",
              "      box-shadow: 0px 1px 2px rgba(60, 64, 67, 0.3), 0px 1px 3px 1px rgba(60, 64, 67, 0.15);\n",
              "      fill: #174EA6;\n",
              "    }\n",
              "\n",
              "    .colab-df-buttons div {\n",
              "      margin-bottom: 4px;\n",
              "    }\n",
              "\n",
              "    [theme=dark] .colab-df-convert {\n",
              "      background-color: #3B4455;\n",
              "      fill: #D2E3FC;\n",
              "    }\n",
              "\n",
              "    [theme=dark] .colab-df-convert:hover {\n",
              "      background-color: #434B5C;\n",
              "      box-shadow: 0px 1px 3px 1px rgba(0, 0, 0, 0.15);\n",
              "      filter: drop-shadow(0px 1px 2px rgba(0, 0, 0, 0.3));\n",
              "      fill: #FFFFFF;\n",
              "    }\n",
              "  </style>\n",
              "\n",
              "    <script>\n",
              "      const buttonEl =\n",
              "        document.querySelector('#df-b7f71dbb-9ccf-44ee-8628-8716a7c5f2fd button.colab-df-convert');\n",
              "      buttonEl.style.display =\n",
              "        google.colab.kernel.accessAllowed ? 'block' : 'none';\n",
              "\n",
              "      async function convertToInteractive(key) {\n",
              "        const element = document.querySelector('#df-b7f71dbb-9ccf-44ee-8628-8716a7c5f2fd');\n",
              "        const dataTable =\n",
              "          await google.colab.kernel.invokeFunction('convertToInteractive',\n",
              "                                                    [key], {});\n",
              "        if (!dataTable) return;\n",
              "\n",
              "        const docLinkHtml = 'Like what you see? Visit the ' +\n",
              "          '<a target=\"_blank\" href=https://colab.research.google.com/notebooks/data_table.ipynb>data table notebook</a>'\n",
              "          + ' to learn more about interactive tables.';\n",
              "        element.innerHTML = '';\n",
              "        dataTable['output_type'] = 'display_data';\n",
              "        await google.colab.output.renderOutput(dataTable, element);\n",
              "        const docLink = document.createElement('div');\n",
              "        docLink.innerHTML = docLinkHtml;\n",
              "        element.appendChild(docLink);\n",
              "      }\n",
              "    </script>\n",
              "  </div>\n",
              "\n",
              "\n",
              "<div id=\"df-1384c5ee-6e88-44fa-adb7-5c97532738bf\">\n",
              "  <button class=\"colab-df-quickchart\" onclick=\"quickchart('df-1384c5ee-6e88-44fa-adb7-5c97532738bf')\"\n",
              "            title=\"Suggest charts\"\n",
              "            style=\"display:none;\">\n",
              "\n",
              "<svg xmlns=\"http://www.w3.org/2000/svg\" height=\"24px\"viewBox=\"0 0 24 24\"\n",
              "     width=\"24px\">\n",
              "    <g>\n",
              "        <path d=\"M19 3H5c-1.1 0-2 .9-2 2v14c0 1.1.9 2 2 2h14c1.1 0 2-.9 2-2V5c0-1.1-.9-2-2-2zM9 17H7v-7h2v7zm4 0h-2V7h2v10zm4 0h-2v-4h2v4z\"/>\n",
              "    </g>\n",
              "</svg>\n",
              "  </button>\n",
              "\n",
              "<style>\n",
              "  .colab-df-quickchart {\n",
              "      --bg-color: #E8F0FE;\n",
              "      --fill-color: #1967D2;\n",
              "      --hover-bg-color: #E2EBFA;\n",
              "      --hover-fill-color: #174EA6;\n",
              "      --disabled-fill-color: #AAA;\n",
              "      --disabled-bg-color: #DDD;\n",
              "  }\n",
              "\n",
              "  [theme=dark] .colab-df-quickchart {\n",
              "      --bg-color: #3B4455;\n",
              "      --fill-color: #D2E3FC;\n",
              "      --hover-bg-color: #434B5C;\n",
              "      --hover-fill-color: #FFFFFF;\n",
              "      --disabled-bg-color: #3B4455;\n",
              "      --disabled-fill-color: #666;\n",
              "  }\n",
              "\n",
              "  .colab-df-quickchart {\n",
              "    background-color: var(--bg-color);\n",
              "    border: none;\n",
              "    border-radius: 50%;\n",
              "    cursor: pointer;\n",
              "    display: none;\n",
              "    fill: var(--fill-color);\n",
              "    height: 32px;\n",
              "    padding: 0;\n",
              "    width: 32px;\n",
              "  }\n",
              "\n",
              "  .colab-df-quickchart:hover {\n",
              "    background-color: var(--hover-bg-color);\n",
              "    box-shadow: 0 1px 2px rgba(60, 64, 67, 0.3), 0 1px 3px 1px rgba(60, 64, 67, 0.15);\n",
              "    fill: var(--button-hover-fill-color);\n",
              "  }\n",
              "\n",
              "  .colab-df-quickchart-complete:disabled,\n",
              "  .colab-df-quickchart-complete:disabled:hover {\n",
              "    background-color: var(--disabled-bg-color);\n",
              "    fill: var(--disabled-fill-color);\n",
              "    box-shadow: none;\n",
              "  }\n",
              "\n",
              "  .colab-df-spinner {\n",
              "    border: 2px solid var(--fill-color);\n",
              "    border-color: transparent;\n",
              "    border-bottom-color: var(--fill-color);\n",
              "    animation:\n",
              "      spin 1s steps(1) infinite;\n",
              "  }\n",
              "\n",
              "  @keyframes spin {\n",
              "    0% {\n",
              "      border-color: transparent;\n",
              "      border-bottom-color: var(--fill-color);\n",
              "      border-left-color: var(--fill-color);\n",
              "    }\n",
              "    20% {\n",
              "      border-color: transparent;\n",
              "      border-left-color: var(--fill-color);\n",
              "      border-top-color: var(--fill-color);\n",
              "    }\n",
              "    30% {\n",
              "      border-color: transparent;\n",
              "      border-left-color: var(--fill-color);\n",
              "      border-top-color: var(--fill-color);\n",
              "      border-right-color: var(--fill-color);\n",
              "    }\n",
              "    40% {\n",
              "      border-color: transparent;\n",
              "      border-right-color: var(--fill-color);\n",
              "      border-top-color: var(--fill-color);\n",
              "    }\n",
              "    60% {\n",
              "      border-color: transparent;\n",
              "      border-right-color: var(--fill-color);\n",
              "    }\n",
              "    80% {\n",
              "      border-color: transparent;\n",
              "      border-right-color: var(--fill-color);\n",
              "      border-bottom-color: var(--fill-color);\n",
              "    }\n",
              "    90% {\n",
              "      border-color: transparent;\n",
              "      border-bottom-color: var(--fill-color);\n",
              "    }\n",
              "  }\n",
              "</style>\n",
              "\n",
              "  <script>\n",
              "    async function quickchart(key) {\n",
              "      const quickchartButtonEl =\n",
              "        document.querySelector('#' + key + ' button');\n",
              "      quickchartButtonEl.disabled = true;  // To prevent multiple clicks.\n",
              "      quickchartButtonEl.classList.add('colab-df-spinner');\n",
              "      try {\n",
              "        const charts = await google.colab.kernel.invokeFunction(\n",
              "            'suggestCharts', [key], {});\n",
              "      } catch (error) {\n",
              "        console.error('Error during call to suggestCharts:', error);\n",
              "      }\n",
              "      quickchartButtonEl.classList.remove('colab-df-spinner');\n",
              "      quickchartButtonEl.classList.add('colab-df-quickchart-complete');\n",
              "    }\n",
              "    (() => {\n",
              "      let quickchartButtonEl =\n",
              "        document.querySelector('#df-1384c5ee-6e88-44fa-adb7-5c97532738bf button');\n",
              "      quickchartButtonEl.style.display =\n",
              "        google.colab.kernel.accessAllowed ? 'block' : 'none';\n",
              "    })();\n",
              "  </script>\n",
              "</div>\n",
              "    </div>\n",
              "  </div>\n"
            ]
          },
          "metadata": {},
          "execution_count": 35
        }
      ]
    },
    {
      "cell_type": "code",
      "source": [
        "#Lista das colunas do dataset\n",
        "colunas = df.columns.tolist()\n",
        "print(colunas)"
      ],
      "metadata": {
        "colab": {
          "base_uri": "https://localhost:8080/"
        },
        "id": "vqj0KPyuLlMA",
        "outputId": "9f57f686-ea5f-4ade-aba6-6c9e8756e1ec"
      },
      "execution_count": 36,
      "outputs": [
        {
          "output_type": "stream",
          "name": "stdout",
          "text": [
            "['gameid', 'teamname', 'top_playername', 'top_champion', 'top_kills', 'top_deaths', 'top_assists', 'top_firstbloodkill', 'top_firstbloodassist', 'top_firstbloodvictim', 'top_damagetochampions', 'top_dpm', 'top_damageshare', 'top_damagetakenperminute', 'top_damagemitigatedperminute', 'top_wardsplaced', 'top_wpm', 'top_wardskilled', 'top_wcpm', 'top_controlwardsbought', 'top_visionscore', 'top_vspm', 'top_totalgold', 'top_earnedgold', 'top_earned gpm', 'top_earnedgoldshare', 'top_goldspent', 'top_total cs', 'top_minionkills', 'top_monsterkills', 'top_monsterkillsownjungle', 'top_monsterkillsenemyjungle', 'top_cspm', 'top_goldat10', 'top_xpat10', 'top_csat10', 'top_opp_goldat10', 'top_opp_xpat10', 'top_opp_csat10', 'top_golddiffat10', 'top_xpdiffat10', 'top_csdiffat10', 'top_killsat10', 'top_assistsat10', 'top_deathsat10', 'top_opp_killsat10', 'top_opp_assistsat10', 'top_opp_deathsat10', 'top_goldat15', 'top_xpat15', 'top_csat15', 'top_opp_goldat15', 'top_opp_xpat15', 'top_opp_csat15', 'top_golddiffat15', 'top_xpdiffat15', 'top_csdiffat15', 'top_killsat15', 'top_assistsat15', 'top_deathsat15', 'top_opp_killsat15', 'top_opp_assistsat15', 'top_opp_deathsat15', 'jng_playername', 'jng_champion', 'jng_kills', 'jng_deaths', 'jng_assists', 'jng_firstbloodkill', 'jng_firstbloodassist', 'jng_firstbloodvictim', 'jng_damagetochampions', 'jng_dpm', 'jng_damageshare', 'jng_damagetakenperminute', 'jng_damagemitigatedperminute', 'jng_wardsplaced', 'jng_wpm', 'jng_wardskilled', 'jng_wcpm', 'jng_controlwardsbought', 'jng_visionscore', 'jng_vspm', 'jng_totalgold', 'jng_earnedgold', 'jng_earned gpm', 'jng_earnedgoldshare', 'jng_goldspent', 'jng_total cs', 'jng_minionkills', 'jng_monsterkills', 'jng_monsterkillsownjungle', 'jng_monsterkillsenemyjungle', 'jng_cspm', 'jng_goldat10', 'jng_xpat10', 'jng_csat10', 'jng_opp_goldat10', 'jng_opp_xpat10', 'jng_opp_csat10', 'jng_golddiffat10', 'jng_xpdiffat10', 'jng_csdiffat10', 'jng_killsat10', 'jng_assistsat10', 'jng_deathsat10', 'jng_opp_killsat10', 'jng_opp_assistsat10', 'jng_opp_deathsat10', 'jng_goldat15', 'jng_xpat15', 'jng_csat15', 'jng_opp_goldat15', 'jng_opp_xpat15', 'jng_opp_csat15', 'jng_golddiffat15', 'jng_xpdiffat15', 'jng_csdiffat15', 'jng_killsat15', 'jng_assistsat15', 'jng_deathsat15', 'jng_opp_killsat15', 'jng_opp_assistsat15', 'jng_opp_deathsat15', 'mid_playername', 'mid_champion', 'mid_kills', 'mid_deaths', 'mid_assists', 'mid_firstbloodkill', 'mid_firstbloodassist', 'mid_firstbloodvictim', 'mid_damagetochampions', 'mid_dpm', 'mid_damageshare', 'mid_damagetakenperminute', 'mid_damagemitigatedperminute', 'mid_wardsplaced', 'mid_wpm', 'mid_wardskilled', 'mid_wcpm', 'mid_controlwardsbought', 'mid_visionscore', 'mid_vspm', 'mid_totalgold', 'mid_earnedgold', 'mid_earned gpm', 'mid_earnedgoldshare', 'mid_goldspent', 'mid_total cs', 'mid_minionkills', 'mid_monsterkills', 'mid_monsterkillsownjungle', 'mid_monsterkillsenemyjungle', 'mid_cspm', 'mid_goldat10', 'mid_xpat10', 'mid_csat10', 'mid_opp_goldat10', 'mid_opp_xpat10', 'mid_opp_csat10', 'mid_golddiffat10', 'mid_xpdiffat10', 'mid_csdiffat10', 'mid_killsat10', 'mid_assistsat10', 'mid_deathsat10', 'mid_opp_killsat10', 'mid_opp_assistsat10', 'mid_opp_deathsat10', 'mid_goldat15', 'mid_xpat15', 'mid_csat15', 'mid_opp_goldat15', 'mid_opp_xpat15', 'mid_opp_csat15', 'mid_golddiffat15', 'mid_xpdiffat15', 'mid_csdiffat15', 'mid_killsat15', 'mid_assistsat15', 'mid_deathsat15', 'mid_opp_killsat15', 'mid_opp_assistsat15', 'mid_opp_deathsat15', 'bot_playername', 'bot_champion', 'bot_kills', 'bot_deaths', 'bot_assists', 'bot_firstbloodkill', 'bot_firstbloodassist', 'bot_firstbloodvictim', 'bot_damagetochampions', 'bot_dpm', 'bot_damageshare', 'bot_damagetakenperminute', 'bot_damagemitigatedperminute', 'bot_wardsplaced', 'bot_wpm', 'bot_wardskilled', 'bot_wcpm', 'bot_controlwardsbought', 'bot_visionscore', 'bot_vspm', 'bot_totalgold', 'bot_earnedgold', 'bot_earned gpm', 'bot_earnedgoldshare', 'bot_goldspent', 'bot_total cs', 'bot_minionkills', 'bot_monsterkills', 'bot_monsterkillsownjungle', 'bot_monsterkillsenemyjungle', 'bot_cspm', 'bot_goldat10', 'bot_xpat10', 'bot_csat10', 'bot_opp_goldat10', 'bot_opp_xpat10', 'bot_opp_csat10', 'bot_golddiffat10', 'bot_xpdiffat10', 'bot_csdiffat10', 'bot_killsat10', 'bot_assistsat10', 'bot_deathsat10', 'bot_opp_killsat10', 'bot_opp_assistsat10', 'bot_opp_deathsat10', 'bot_goldat15', 'bot_xpat15', 'bot_csat15', 'bot_opp_goldat15', 'bot_opp_xpat15', 'bot_opp_csat15', 'bot_golddiffat15', 'bot_xpdiffat15', 'bot_csdiffat15', 'bot_killsat15', 'bot_assistsat15', 'bot_deathsat15', 'bot_opp_killsat15', 'bot_opp_assistsat15', 'bot_opp_deathsat15', 'sup_playername', 'sup_champion', 'sup_kills', 'sup_deaths', 'sup_assists', 'sup_firstbloodkill', 'sup_firstbloodassist', 'sup_firstbloodvictim', 'sup_damagetochampions', 'sup_dpm', 'sup_damageshare', 'sup_damagetakenperminute', 'sup_damagemitigatedperminute', 'sup_wardsplaced', 'sup_wpm', 'sup_wardskilled', 'sup_wcpm', 'sup_controlwardsbought', 'sup_visionscore', 'sup_vspm', 'sup_totalgold', 'sup_earnedgold', 'sup_earned gpm', 'sup_earnedgoldshare', 'sup_goldspent', 'sup_total cs', 'sup_minionkills', 'sup_monsterkills', 'sup_monsterkillsownjungle', 'sup_monsterkillsenemyjungle', 'sup_cspm', 'sup_goldat10', 'sup_xpat10', 'sup_csat10', 'sup_opp_goldat10', 'sup_opp_xpat10', 'sup_opp_csat10', 'sup_golddiffat10', 'sup_xpdiffat10', 'sup_csdiffat10', 'sup_killsat10', 'sup_assistsat10', 'sup_deathsat10', 'sup_opp_killsat10', 'sup_opp_assistsat10', 'sup_opp_deathsat10', 'sup_goldat15', 'sup_xpat15', 'sup_csat15', 'sup_opp_goldat15', 'sup_opp_xpat15', 'sup_opp_csat15', 'sup_golddiffat15', 'sup_xpdiffat15', 'sup_csdiffat15', 'sup_killsat15', 'sup_assistsat15', 'sup_deathsat15', 'sup_opp_killsat15', 'sup_opp_assistsat15', 'sup_opp_deathsat15', 'gamelength', 'result', 'game', 'patch', 'playoffs', 'ckpm', 'side', 'ban1', 'ban2', 'ban3', 'ban4', 'ban5', 'teamkills', 'teamdeaths', 'firstblood', 'team kpm', 'firstdragon', 'dragons', 'opp_dragons', 'elementaldrakes', 'opp_elementaldrakes', 'infernals', 'mountains', 'clouds', 'oceans', 'chemtechs', 'hextechs', 'elders', 'opp_elders', 'firstherald', 'heralds', 'opp_heralds', 'firstbaron', 'barons', 'opp_barons', 'firsttower', 'towers', 'opp_towers', 'firstmidtower', 'firsttothreetowers', 'turretplates', 'opp_turretplates', 'inhibitors', 'opp_inhibitors', 'damagetochampions', 'dpm', 'damagetakenperminute', 'damagemitigatedperminute', 'wardsplaced', 'wpm', 'wardskilled', 'wcpm', 'controlwardsbought', 'visionscore', 'vspm', 'totalgold', 'earnedgold', 'earned gpm', 'goldspent', 'gspd', 'total cs', 'minionkills', 'monsterkills', 'monsterkillsownjungle', 'monsterkillsenemyjungle', 'cspm', 'goldat10', 'xpat10', 'csat10', 'opp_goldat10', 'opp_xpat10', 'opp_csat10', 'golddiffat10', 'xpdiffat10', 'csdiffat10', 'killsat10', 'assistsat10', 'deathsat10', 'opp_killsat10', 'opp_assistsat10', 'opp_deathsat10', 'goldat15', 'xpat15', 'csat15', 'opp_goldat15', 'opp_xpat15', 'opp_csat15', 'golddiffat15', 'xpdiffat15', 'csdiffat15', 'killsat15', 'assistsat15', 'deathsat15', 'opp_killsat15', 'opp_assistsat15', 'opp_deathsat15']\n"
          ]
        }
      ]
    },
    {
      "cell_type": "code",
      "source": [
        "print(df.head())\n",
        "\n",
        "# Resumo estatístico das variáveis numéricas\n",
        "print(df.describe())\n"
      ],
      "metadata": {
        "id": "R5Xg29zTcm4Y",
        "colab": {
          "base_uri": "https://localhost:8080/"
        },
        "outputId": "fe314240-3db8-4439-9541-3d264990890d"
      },
      "execution_count": 37,
      "outputs": [
        {
          "output_type": "stream",
          "name": "stdout",
          "text": [
            "                  gameid          teamname top_playername top_champion  \\\n",
            "0  ESPORTSTMNT01_2695708              LOUD           Robo     Renekton   \n",
            "1  ESPORTSTMNT01_2695708             FURIA            fNb        Akali   \n",
            "2  ESPORTSTMNT01_2695774   Netshoes Miners          DoRun   Tryndamere   \n",
            "3  ESPORTSTMNT01_2695774  Flamengo Esports           Boal         Gwen   \n",
            "4  ESPORTSTMNT01_2695807   KaBuM! e-Sports         Parang       Graves   \n",
            "\n",
            "   top_kills  top_deaths  top_assists  top_firstbloodkill  \\\n",
            "0          3           6            5                 0.0   \n",
            "1          4           4            5                 0.0   \n",
            "2          6           0            7                 0.0   \n",
            "3          2           3            2                 1.0   \n",
            "4          4           2            6                 0.0   \n",
            "\n",
            "   top_firstbloodassist  top_firstbloodvictim  ...  opp_csat15  golddiffat15  \\\n",
            "0                   0.0                   0.0  ...       511.0        1659.0   \n",
            "1                   0.0                   0.0  ...       522.0       -1659.0   \n",
            "2                   0.0                   0.0  ...       589.0        -529.0   \n",
            "3                   0.0                   0.0  ...       526.0         529.0   \n",
            "4                   0.0                   0.0  ...       494.0         746.0   \n",
            "\n",
            "   xpdiffat15  csdiffat15  killsat15  assistsat15  deathsat15  opp_killsat15  \\\n",
            "0       549.0        11.0        4.0          4.0         4.0            4.0   \n",
            "1      -549.0       -11.0        4.0          6.0         4.0            4.0   \n",
            "2       401.0       -63.0        3.0         11.0         2.0            2.0   \n",
            "3      -401.0        63.0        2.0          4.0         3.0            3.0   \n",
            "4      1341.0        37.0        2.0          3.0         3.0            3.0   \n",
            "\n",
            "   opp_assistsat15  opp_deathsat15  \n",
            "0              6.0             4.0  \n",
            "1              4.0             4.0  \n",
            "2              4.0             3.0  \n",
            "3             11.0             2.0  \n",
            "4              6.0             2.0  \n",
            "\n",
            "[5 rows x 403 columns]\n",
            "        top_kills  top_deaths  top_assists  top_firstbloodkill  \\\n",
            "count  486.000000  486.000000   486.000000          486.000000   \n",
            "mean     3.092593    3.170782     5.483539            0.100823   \n",
            "std      2.543977    1.931201     3.578679            0.301405   \n",
            "min      0.000000    0.000000     0.000000            0.000000   \n",
            "25%      1.000000    2.000000     2.000000            0.000000   \n",
            "50%      3.000000    3.000000     5.000000            0.000000   \n",
            "75%      4.000000    4.000000     8.000000            0.000000   \n",
            "max     15.000000   14.000000    19.000000            1.000000   \n",
            "\n",
            "       top_firstbloodassist  top_firstbloodvictim  top_damagetochampions  \\\n",
            "count            486.000000            486.000000             486.000000   \n",
            "mean               0.102881              0.133745           16995.923868   \n",
            "std                0.304116              0.340729            7284.853831   \n",
            "min                0.000000              0.000000            3180.000000   \n",
            "25%                0.000000              0.000000           11903.500000   \n",
            "50%                0.000000              0.000000           16289.000000   \n",
            "75%                0.000000              0.000000           21112.250000   \n",
            "max                1.000000              1.000000           52013.000000   \n",
            "\n",
            "           top_dpm  top_damageshare  top_damagetakenperminute  ...  \\\n",
            "count   486.000000       486.000000                486.000000  ...   \n",
            "mean    513.830786         0.254201                720.614476  ...   \n",
            "std     194.083190         0.073328                190.319818  ...   \n",
            "min     126.190500         0.070931                184.398900  ...   \n",
            "25%     370.726800         0.200239                594.274600  ...   \n",
            "50%     485.010600         0.247545                717.087950  ...   \n",
            "75%     622.075200         0.297740                834.273675  ...   \n",
            "max    1312.419900         0.482068               1401.774900  ...   \n",
            "\n",
            "       opp_csat15  golddiffat15  xpdiffat15  csdiffat15   killsat15  \\\n",
            "count  486.000000    486.000000   486.00000   486.00000  486.000000   \n",
            "mean   506.415638      0.000000     0.00000     0.00000    3.713992   \n",
            "std     29.653881   2688.059928  1699.73522    33.10016    2.498348   \n",
            "min    395.000000  -8246.000000 -5229.00000   -99.00000    0.000000   \n",
            "25%    489.000000  -1871.000000 -1163.00000   -22.00000    2.000000   \n",
            "50%    507.000000      0.000000     0.00000     0.00000    3.000000   \n",
            "75%    526.000000   1871.000000  1163.00000    22.00000    5.000000   \n",
            "max    602.000000   8246.000000  5229.00000    99.00000   14.000000   \n",
            "\n",
            "       assistsat15  deathsat15  opp_killsat15  opp_assistsat15  opp_deathsat15  \n",
            "count   486.000000  486.000000     486.000000       486.000000      486.000000  \n",
            "mean      6.609053    3.722222       3.713992         6.609053        3.722222  \n",
            "std       5.253908    2.507514       2.498348         5.253908        2.507514  \n",
            "min       0.000000    0.000000       0.000000         0.000000        0.000000  \n",
            "25%       3.000000    2.000000       2.000000         3.000000        2.000000  \n",
            "50%       5.000000    3.000000       3.000000         5.000000        3.000000  \n",
            "75%       9.000000    5.000000       5.000000         9.000000        5.000000  \n",
            "max      28.000000   14.000000      14.000000        28.000000       14.000000  \n",
            "\n",
            "[8 rows x 385 columns]\n"
          ]
        }
      ]
    },
    {
      "cell_type": "markdown",
      "source": [
        "#A melhor equipe em termos de kills, deaths e assists\n",
        "\n"
      ],
      "metadata": {
        "id": "jZfKh1Coodem"
      }
    },
    {
      "cell_type": "code",
      "source": [
        "team_stats = df.groupby('teamname')[['top_kills', 'top_deaths', 'top_assists']].mean()\n",
        "\n",
        "# A equipe com o melhor número médio de kills\n",
        "best_kills_team = team_stats['top_kills'].idxmax()\n",
        "best_kills = team_stats['top_kills'].max()\n",
        "\n",
        "# A equipe com o melhor número médio de deaths\n",
        "best_deaths_team = team_stats['top_deaths'].idxmin()\n",
        "best_deaths = team_stats['top_deaths'].min()\n",
        "\n",
        "# A equipe com o melhor número médio de assists\n",
        "best_assists_team = team_stats['top_assists'].idxmax()\n",
        "best_assists = team_stats['top_assists'].max()\n",
        "\n",
        "print(f\"A equipe com o melhor desempenho em termos de kills é '{best_kills_team}' com uma média de {best_kills:.2f} kills.\")\n",
        "print(f\"A equipe com o melhor desempenho em termos de deaths é '{best_deaths_team}' com uma média de {best_deaths:.2f} deaths.\")\n",
        "print(f\"A equipe com o melhor desempenho em termos de assists é '{best_assists_team}' com uma média de {best_assists:.2f} assists.\")\n",
        "\n"
      ],
      "metadata": {
        "colab": {
          "base_uri": "https://localhost:8080/"
        },
        "id": "2Dy0ksyxmsx4",
        "outputId": "a79cab50-7000-4165-9de4-7d598e02c365"
      },
      "execution_count": 38,
      "outputs": [
        {
          "output_type": "stream",
          "name": "stdout",
          "text": [
            "A equipe com o melhor desempenho em termos de kills é 'KaBuM! e-Sports' com uma média de 4.19 kills.\n",
            "A equipe com o melhor desempenho em termos de deaths é 'Netshoes Miners' com uma média de 2.57 deaths.\n",
            "A equipe com o melhor desempenho em termos de assists é 'RED Canids' com uma média de 6.77 assists.\n"
          ]
        }
      ]
    },
    {
      "cell_type": "markdown",
      "source": [
        "============================="
      ],
      "metadata": {
        "id": "muzAvp2W4h9s"
      }
    },
    {
      "cell_type": "markdown",
      "source": [
        "#Média de abates (kills) por side (top, jng, mid, bot, sup)"
      ],
      "metadata": {
        "id": "2WBIcz1s4zhY"
      }
    },
    {
      "cell_type": "code",
      "source": [
        "kills_by_position = df.groupby('side').agg({'top_kills': 'mean', 'jng_kills': 'mean', 'mid_kills': 'mean', 'bot_kills': 'mean', 'sup_kills': 'mean'})\n",
        "print(kills_by_position)\n"
      ],
      "metadata": {
        "colab": {
          "base_uri": "https://localhost:8080/"
        },
        "id": "nYCJx5Kp4kAq",
        "outputId": "c017d306-64b5-4dfd-923a-1d6a457574d9"
      },
      "execution_count": 39,
      "outputs": [
        {
          "output_type": "stream",
          "name": "stdout",
          "text": [
            "      top_kills  jng_kills  mid_kills  bot_kills  sup_kills\n",
            "side                                                       \n",
            "Blue   3.106996   2.979424   3.539095   4.197531   0.905350\n",
            "Red    3.078189   2.843621   3.176955   3.950617   0.711934\n"
          ]
        }
      ]
    },
    {
      "cell_type": "markdown",
      "source": [
        "#Média de abates para equipes vencedoras e perdedoras"
      ],
      "metadata": {
        "id": "YTTf5_ze5FXa"
      }
    },
    {
      "cell_type": "code",
      "source": [
        "kills_by_result = df.groupby('result')['teamkills'].mean()\n",
        "print(kills_by_result)\n"
      ],
      "metadata": {
        "colab": {
          "base_uri": "https://localhost:8080/"
        },
        "id": "An-80lSm44aB",
        "outputId": "00730b3b-90c4-4b69-f4a1-562650b7f5fb"
      },
      "execution_count": 40,
      "outputs": [
        {
          "output_type": "stream",
          "name": "stdout",
          "text": [
            "result\n",
            "0     9.349794\n",
            "1    19.139918\n",
            "Name: teamkills, dtype: float64\n"
          ]
        }
      ]
    },
    {
      "cell_type": "markdown",
      "source": [
        "#Média de ouro total por equipe"
      ],
      "metadata": {
        "id": "Hj1EWG2N5Xoy"
      }
    },
    {
      "cell_type": "code",
      "source": [
        "avg_gold_by_team = df.groupby('teamname')['totalgold'].mean()\n",
        "print(avg_gold_by_team)\n"
      ],
      "metadata": {
        "colab": {
          "base_uri": "https://localhost:8080/"
        },
        "id": "4BaXDtef5LJb",
        "outputId": "e66ab06e-5780-4ab2-a304-eb15af0879d2"
      },
      "execution_count": 41,
      "outputs": [
        {
          "output_type": "stream",
          "name": "stdout",
          "text": [
            "teamname\n",
            "FURIA                   61860.491228\n",
            "Flamengo Esports        57533.555556\n",
            "Flamengo Los Grandes    58691.222222\n",
            "INTZ                    52745.722222\n",
            "KaBuM! e-Sports         57658.452830\n",
            "LOUD                    61905.058824\n",
            "Liberty                 58062.909091\n",
            "Miners                  54919.571429\n",
            "Netshoes Miners         60756.571429\n",
            "RED Canids              59610.128571\n",
            "Rensga eSports          53163.861111\n",
            "paiN Gaming             61316.901639\n",
            "Name: totalgold, dtype: float64\n"
          ]
        }
      ]
    },
    {
      "cell_type": "markdown",
      "source": [
        "#Jogador com o maior dano causado aos campeões (damagetochampions)"
      ],
      "metadata": {
        "id": "daAVkNvu5pBw"
      }
    },
    {
      "cell_type": "code",
      "source": [
        "top_dmg_player = df[df['damagetochampions'] == df['damagetochampions'].max()]['top_playername'].values[0]\n",
        "print(\"Jogador com maior dano causado aos campeões:\", top_dmg_player)\n"
      ],
      "metadata": {
        "colab": {
          "base_uri": "https://localhost:8080/"
        },
        "id": "UG4TkOiD5P_w",
        "outputId": "3d657277-17e0-4a7e-e583-16d9fa2a0437"
      },
      "execution_count": 42,
      "outputs": [
        {
          "output_type": "stream",
          "name": "stdout",
          "text": [
            "Jogador com maior dano causado aos campeões: Parang\n"
          ]
        }
      ]
    },
    {
      "cell_type": "markdown",
      "source": [
        "#Diferença média de ouro (golddiffat10, golddiffat15) entre equipes vencedoras e perdedoras"
      ],
      "metadata": {
        "id": "FGefSm5i6ciF"
      }
    },
    {
      "cell_type": "code",
      "source": [
        "gold_diff_at_10 = df.groupby('result')['golddiffat10'].mean()\n",
        "gold_diff_at_15 = df.groupby('result')['golddiffat15'].mean()\n",
        "print(\"Diferença média de ouro no minuto 10:\", gold_diff_at_10)\n",
        "print(\"Diferença média de ouro no minuto 15:\", gold_diff_at_15)\n",
        "\n",
        "#0 para perdedora e 1 para vencedora"
      ],
      "metadata": {
        "colab": {
          "base_uri": "https://localhost:8080/"
        },
        "id": "0-M24_pD5vvG",
        "outputId": "e25b1532-645b-446d-bbcd-fc30ac31cc1c"
      },
      "execution_count": 43,
      "outputs": [
        {
          "output_type": "stream",
          "name": "stdout",
          "text": [
            "Diferença média de ouro no minuto 10: result\n",
            "0   -469.242798\n",
            "1    469.242798\n",
            "Name: golddiffat10, dtype: float64\n",
            "Diferença média de ouro no minuto 15: result\n",
            "0   -1194.930041\n",
            "1    1194.930041\n",
            "Name: golddiffat15, dtype: float64\n"
          ]
        }
      ]
    },
    {
      "cell_type": "markdown",
      "source": [
        "#Porcentagem de partidas em que o primeiro abate (firstblood) resultou em vitória?"
      ],
      "metadata": {
        "id": "ZcYlXRS76lsx"
      }
    },
    {
      "cell_type": "code",
      "source": [
        "first_blood_win_percentage = (df[df['firstblood'] == 1]['result'].sum() / df[df['firstblood'] == 1]['result'].count()) * 100\n",
        "print(\"Porcentagem de vitória com o primeiro abate:\", first_blood_win_percentage, \"%\")\n"
      ],
      "metadata": {
        "colab": {
          "base_uri": "https://localhost:8080/"
        },
        "id": "nIsxAJ3z6h-w",
        "outputId": "cfc5d104-e2ed-4571-defe-391b99d14286"
      },
      "execution_count": 44,
      "outputs": [
        {
          "output_type": "stream",
          "name": "stdout",
          "text": [
            "Porcentagem de vitória com o primeiro abate: 60.33057851239669 %\n"
          ]
        }
      ]
    },
    {
      "cell_type": "markdown",
      "source": [
        "#Campeão mais escolhido por posição"
      ],
      "metadata": {
        "id": "SMlVevw_6xgv"
      }
    },
    {
      "cell_type": "code",
      "source": [
        "most_picked_champion_top = df['top_champion'].value_counts().idxmax()\n",
        "most_picked_champion_jng = df['jng_champion'].value_counts().idxmax()\n",
        "most_picked_champion_mid = df['mid_champion'].value_counts().idxmax()\n",
        "most_picked_champion_bot = df['bot_champion'].value_counts().idxmax()\n",
        "most_picked_champion_sup = df['sup_champion'].value_counts().idxmax()\n",
        "print(\"Campeão mais escolhido na posição TOP:\", most_picked_champion_top)\n",
        "print(\"Campeão mais escolhido na posição JNG:\", most_picked_champion_jng)\n",
        "print(\"Campeão mais escolhido na posição MID:\", most_picked_champion_mid)\n",
        "print(\"Campeão mais escolhido na posição BOT:\", most_picked_champion_bot)\n",
        "print(\"Campeão mais escolhido na posição SUP:\", most_picked_champion_sup)\n"
      ],
      "metadata": {
        "colab": {
          "base_uri": "https://localhost:8080/"
        },
        "id": "P3LSk4mh6rg4",
        "outputId": "b0de1803-920f-459c-9ea8-b2e19bcfa4e0"
      },
      "execution_count": 45,
      "outputs": [
        {
          "output_type": "stream",
          "name": "stdout",
          "text": [
            "Campeão mais escolhido na posição TOP: Gnar\n",
            "Campeão mais escolhido na posição JNG: Viego\n",
            "Campeão mais escolhido na posição MID: Ahri\n",
            "Campeão mais escolhido na posição BOT: Aphelios\n",
            "Campeão mais escolhido na posição SUP: Nautilus\n"
          ]
        }
      ]
    },
    {
      "cell_type": "markdown",
      "source": [
        "#Análise de Normalidade da Distribuição"
      ],
      "metadata": {
        "id": "gKXarV49CsVb"
      }
    },
    {
      "cell_type": "code",
      "source": [
        "# Teste de normalidade para a variável 'totalgold'. Utilizado o teste de Shapiro-Wilk para avaliar se a distribuição é normal.\n",
        "\n",
        "from scipy.stats import shapiro\n",
        "\n",
        "# Teste de normalidade para 'totalgold'\n",
        "stat, p_value = shapiro(df['totalgold'])\n",
        "\n",
        "# Avaliação do resultado\n",
        "alpha = 0.05\n",
        "if p_value > alpha:\n",
        "    print(\"A distribuição de 'totalgold' parece ser normal (p-value =\", p_value, \")\")\n",
        "else:\n",
        "    print(\"A distribuição de 'totalgold' não parece ser normal (p-value =\", p_value, \")\")\n"
      ],
      "metadata": {
        "colab": {
          "base_uri": "https://localhost:8080/"
        },
        "id": "c88KDpD4Ct5I",
        "outputId": "04bf127e-085a-43a3-fc06-be654efd0ddc"
      },
      "execution_count": 46,
      "outputs": [
        {
          "output_type": "stream",
          "name": "stdout",
          "text": [
            "A distribuição de 'totalgold' parece ser normal (p-value = 0.172505185008049 )\n"
          ]
        }
      ]
    },
    {
      "cell_type": "markdown",
      "source": [
        "#Análise de Variância"
      ],
      "metadata": {
        "id": "UW2IVczNDCAH"
      }
    },
    {
      "cell_type": "code",
      "source": [
        "# Variância para a variável 'teamkills'. A variância nos dará uma medida da dispersão dos dados\n",
        "\n",
        "# Cálculo da variância para 'teamkills'\n",
        "variance_teamkills = df['teamkills'].var()\n",
        "print(\"Variância de 'teamkills':\", variance_teamkills)\n",
        "\n",
        "# Alta variância: pode haver partidas com um número significativamente maior ou menor de abates em relação à média."
      ],
      "metadata": {
        "colab": {
          "base_uri": "https://localhost:8080/"
        },
        "id": "ZIQNp9UgC54D",
        "outputId": "e97916fc-69bb-40bf-a9c5-4b16a7b54f01"
      },
      "execution_count": 47,
      "outputs": [
        {
          "output_type": "stream",
          "name": "stdout",
          "text": [
            "Variância de 'teamkills': 47.43476729879937\n"
          ]
        }
      ]
    },
    {
      "cell_type": "markdown",
      "source": [
        "#Análise de Correlação"
      ],
      "metadata": {
        "id": "Rfx39YxhDSm1"
      }
    },
    {
      "cell_type": "code",
      "source": [
        "# Calculando a correlação entre as variáveis\n",
        "correlation = df['damagetochampions'].corr(df['totalgold'])\n",
        "\n",
        "# Mensagem sobre a força da relação\n",
        "if abs(correlation) >= 0.7:\n",
        "    strength_message = \"A relação é considerada forte.\"\n",
        "elif abs(correlation) >= 0.4:\n",
        "    strength_message = \"A relação é moderada.\"\n",
        "else:\n",
        "    strength_message = \"A relação é considerada fraca.\"\n",
        "\n",
        "# Visualização da relação\n",
        "sns.scatterplot(x='damagetochampions', y='totalgold', data=df)\n",
        "plt.title('Relação entre Dano aos Campeões e Ouro Total')\n",
        "plt.xlabel('Dano aos Campeões')\n",
        "plt.ylabel('Ouro Total')\n",
        "plt.text(0.05, 0.95, f\"Correlação: {correlation:.2f}\\n{strength_message}\", transform=plt.gca().transAxes, fontsize=10, va='top', bbox=dict(boxstyle='round', facecolor='wheat', alpha=0.5))\n",
        "plt.show()\n"
      ],
      "metadata": {
        "colab": {
          "base_uri": "https://localhost:8080/",
          "height": 472
        },
        "id": "THaiZBDoPPc5",
        "outputId": "ebd664c5-0d43-4190-f832-1973096555f0"
      },
      "execution_count": 48,
      "outputs": [
        {
          "output_type": "display_data",
          "data": {
            "text/plain": [
              "<Figure size 640x480 with 1 Axes>"
            ],
            "image/png": "[encoded data removed]"
          },
          "metadata": {}
        }
      ]
    }
  ]
}